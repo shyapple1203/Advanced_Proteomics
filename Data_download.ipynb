{
  "nbformat": 4,
  "nbformat_minor": 0,
  "metadata": {
    "kernelspec": {
      "display_name": "Python 3",
      "language": "python",
      "name": "python3"
    },
    "language_info": {
      "codemirror_mode": {
        "name": "ipython",
        "version": 3
      },
      "file_extension": ".py",
      "mimetype": "text/x-python",
      "name": "python",
      "nbconvert_exporter": "python",
      "pygments_lexer": "ipython3",
      "version": "3.8.5"
    },
    "colab": {
      "name": "Data_download.ipynb",
      "provenance": [],
      "include_colab_link": true
    }
  },
  "cells": [
    {
      "cell_type": "markdown",
      "metadata": {
        "id": "view-in-github",
        "colab_type": "text"
      },
      "source": [
        "<a href=\"https://colab.research.google.com/github/shyapple1203/Advanced_Proteomics/blob/main/Data_download.ipynb\" target=\"_parent\"><img src=\"https://colab.research.google.com/assets/colab-badge.svg\" alt=\"Open In Colab\"/></a>"
      ]
    },
    {
      "cell_type": "code",
      "metadata": {
        "id": "eV-PENjtx5QD"
      },
      "source": [
        "from requests import get"
      ],
      "execution_count": null,
      "outputs": []
    },
    {
      "cell_type": "code",
      "metadata": {
        "id": "_1Dgc90ux5Qa"
      },
      "source": [
        "# comet\n",
        "name = ['blue','green','red','yellow']\n",
        "for n  in name:\n",
        "    for i in range(1,4):\n",
        "        url = 'https://pub.taejoonlab.org/BME603/ABRF_iPRG2009/comet/iPRG2009_ECOLI_'+n+'_'+str(i)+'.iPRG2019_Study.comet.psms_pout.txt'\n",
        "        file_name = url.split('/')[-1]\n",
        "        with open(file_name, \"wb\") as file:   \n",
        "            response = get(url)               \n",
        "            file.write(response.content)"
      ],
      "execution_count": null,
      "outputs": []
    },
    {
      "cell_type": "code",
      "metadata": {
        "id": "v3ecfZ48x5Qe"
      },
      "source": [
        "# MSGF\n",
        "name = ['blue','green','red','yellow']\n",
        "for n  in name:\n",
        "    for i in range(1,4):\n",
        "        url = 'https://pub.taejoonlab.org/BME603/ABRF_iPRG2009/MSGFPlus/iPRG2009_ECOLI_'+n+'_'+str(i)+'.iPRG2009_Study.MSGF+.tsv'\n",
        "        file_name = url.split('/')[-1]\n",
        "        with open(file_name, \"wb\") as file:   \n",
        "            response = get(url)               \n",
        "            file.write(response.content)"
      ],
      "execution_count": null,
      "outputs": []
    },
    {
      "cell_type": "code",
      "metadata": {
        "id": "P0CcVCPFx5Qg"
      },
      "source": [
        "# tandemK\n",
        "name = ['blue','green','red','yellow']\n",
        "for n  in name:\n",
        "    for i in range(1,4):\n",
        "        url = 'https://pub.taejoonlab.org/BME603/ABRF_iPRG2009/tandemK/iPRG2009_ECOLI_'+n+'_'+str(i)+'.iPRG2009_Study.tandem.out.gz'\n",
        "        file_name = url.split('/')[-1]\n",
        "        with open(file_name, \"wb\") as file:   \n",
        "            response = get(url)               \n",
        "            file.write(response.content)"
      ],
      "execution_count": null,
      "outputs": []
    },
    {
      "cell_type": "code",
      "metadata": {
        "id": "wegc9G71x5Qj"
      },
      "source": [
        "yr = ['red','yellow']\n",
        "for n in yr:\n",
        "    for i in range(4,6):\n",
        "        url = 'https://pub.taejoonlab.org/BME603/ABRF_iPRG2009/comet/iPRG2009_ECOLI_'+n+'_'+str(i)+'.iPRG2019_Study.comet.psms_pout.txt'\n",
        "        file_name = url.split('/')[-1]\n",
        "        with open(file_name, \"wb\") as file:   \n",
        "            response = get(url)               \n",
        "            file.write(response.content)\n",
        "for n  in yr:\n",
        "    for i in range(4,6):\n",
        "        url = 'https://pub.taejoonlab.org/BME603/ABRF_iPRG2009/MSGFPlus/iPRG2009_ECOLI_'+n+'_'+str(i)+'.iPRG2009_Study.MSGF+.tsv'\n",
        "        file_name = url.split('/')[-1]\n",
        "        with open(file_name, \"wb\") as file:   \n",
        "            response = get(url)               \n",
        "            file.write(response.content)\n",
        "for n  in yr:\n",
        "    for i in range(4,6):\n",
        "        url = 'https://pub.taejoonlab.org/BME603/ABRF_iPRG2009/tandemK/iPRG2009_ECOLI_'+n+'_'+str(i)+'.iPRG2009_Study.tandem.out.gz'\n",
        "        file_name = url.split('/')[-1]\n",
        "        with open(file_name, \"wb\") as file:   \n",
        "            response = get(url)               \n",
        "            file.write(response.content)         "
      ],
      "execution_count": null,
      "outputs": []
    }
  ]
}