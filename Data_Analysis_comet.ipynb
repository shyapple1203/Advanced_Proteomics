{
 "cells": [
  {
   "cell_type": "code",
   "execution_count": 1,
   "metadata": {},
   "outputs": [],
   "source": [
    "import csv\n",
    "import numpy as np\n",
    "import pandas as pd\n",
    "from pandas import DataFrame as df\n",
    "import matplotlib.pyplot as plt\n",
    "import seaborn as sns"
   ]
  },
  {
   "cell_type": "raw",
   "metadata": {},
   "source": [
    "!curl -O https://pub.taejoonlab.org/BME603/ABRF_iPRG2009/db/answer_key.blue.txt \n",
    "!curl -O https://pub.taejoonlab.org/BME603/ABRF_iPRG2009/db/answer_key.green.txt "
   ]
  },
  {
   "cell_type": "code",
   "execution_count": null,
   "metadata": {},
   "outputs": [],
   "source": [
    "answer_blue = pd.read_csv('./answer_key.blue.txt', header = None)\n",
    "answer_blue.set_axis(['Protein'], axis='columns', inplace = True)\n",
    "\n",
    "answer_green = pd.read_csv('./answer_key.green.txt', header = None)\n",
    "answer_green.set_axis(['Protein'], axis='columns', inplace = True)"
   ]
  },
  {
   "cell_type": "raw",
   "metadata": {},
   "source": [
    "!curl -O https://pub.taejoonlab.org/BME603/ABRF_iPRG2009/db/iPRG2009_Study.MW.csv"
   ]
  },
  {
   "cell_type": "code",
   "execution_count": 2,
   "metadata": {},
   "outputs": [],
   "source": [
    "iPRG_MW = pd.read_csv('./iPRG2009_Study.MW.csv')\n",
    "iPRG_MW.set_index('proteinIds', inplace = True)\n",
    "iPRG_MW = iPRG_MW.astype({'mw':'float'})"
   ]
  },
  {
   "cell_type": "code",
   "execution_count": 3,
   "metadata": {},
   "outputs": [],
   "source": [
    "# Comet\n",
    "\n",
    "Colors = ['red', 'yellow', 'green', 'blue']\n",
    "CNumber = [5,5,3,3]\n",
    "Mean_RY = df()\n",
    "Mean_G = df()\n",
    "Mean_B = df()\n",
    "\n",
    "for order, color in enumerate(Colors):\n",
    "    countdf = df()\n",
    "\n",
    "    for i in range(1,CNumber[order]+1):\n",
    "        data = []\n",
    "        filename = \"./iPRG2009_ECOLI_\"+color+\"_\"+str(i)+\".iPRG2019_Study.comet.psms_pout.txt\"\n",
    "        f = open(filename, \"rt\")\n",
    "        print(filename)\n",
    "        reader = csv.reader(f, delimiter='\\t')\n",
    "        data = list(reader)\n",
    "        data_list = df(data[1:])\n",
    "        data_list = data_list.iloc[:,:6]\n",
    "        data_list.columns = data[0]\n",
    "        f.close()\n",
    "\n",
    "        data_list = data_list.astype({'q-value':'float', 'posterior_error_prob':'float', 'score':'float'}) \n",
    "\n",
    "        CNTM = []\n",
    "        for p in data_list['proteinIds']:\n",
    "            CNTM.append(p.find('Cntm_'))\n",
    "        data_list['isCNTM'] = CNTM\n",
    "        data_list.drop(data_list[data_list['isCNTM'] != -1].index, inplace = True)\n",
    "\n",
    "        data_cut = data_list[data_list['q-value'] < 0.05]\n",
    "        data_group = data_cut.groupby('proteinIds')\n",
    "\n",
    "        cnt = df(data_group.count().iloc[:,0]).transpose()\n",
    "        cnt.index = [str(i)]\n",
    "        if i == 1 : countdf = cnt\n",
    "        else: countdf = countdf.append(cnt)\n",
    "\n",
    "    countdf = countdf.fillna(0)\n",
    "    if order == 0: Mean_RY =  df(countdf.mean()).transpose()\n",
    "    elif order == 1: Mean_RY = Mean_RY.append(df(countdf.mean()).transpose())\n",
    "    elif order == 2: Mean_G = df(countdf.mean())\n",
    "    elif order == 3: Mean_B = df(countdf.mean())\n",
    "        \n",
    "Mean_G.columns = ['green']\n",
    "Mean_B.columns = ['blue']        \n",
    "\n",
    "Mean_RY = Mean_RY.transpose().fillna(0)\n",
    "Mean_RY.columns = ['red', 'yellow']\n",
    "\n",
    "red_yel_Diff = df(Mean_RY['red']-Mean_RY['yellow'])\n",
    "red_yel_Diff.columns = ['Difference']\n",
    "red_yel_Diff_copy = red_yel_Diff.copy()"
   ]
  },
  {
   "cell_type": "code",
   "execution_count": 4,
   "metadata": {},
   "outputs": [],
   "source": [
    "standard = 10\n",
    "for ind, diff in enumerate(red_yel_Diff['Difference']):\n",
    "    if Mean_RY['red'][ind] >= standard and Mean_RY['yellow'][ind] >= standard:\n",
    "        red_yel_Diff.iloc[ind] = 0"
   ]
  },
  {
   "cell_type": "code",
   "execution_count": 5,
   "metadata": {},
   "outputs": [],
   "source": [
    "blue_est = red_yel_Diff[red_yel_Diff['Difference'] > 2]\n",
    "green_est = red_yel_Diff[red_yel_Diff['Difference'] < -2]\n",
    "\n",
    "green_exp = Mean_G[Mean_G['green'] > 1]\n",
    "blue_exp = Mean_B[Mean_B['blue'] > 1]"
   ]
  },
  {
   "cell_type": "raw",
   "metadata": {},
   "source": [
    "Mean_Rm = df(Mean_RY['red']).transpose()\n",
    "Mean_Rm = Mean_Rm.append(iPRG_MW.transpose()).dropna(axis = 1).transpose().set_index('mw').transpose()\n",
    "Mean_Gm = green_est.transpose().append(iPRG_MW.transpose()).dropna(axis = 1).transpose().set_index('mw').transpose()\n",
    "\n",
    "Mean_RG_mw = Mean_Gm.append(Mean_Rm).transpose()\n",
    "Mean_RG_mw = Mean_RG_mw.fillna(0)\n",
    "\n",
    "# sns.lineplot(data = Mean_Rt.transpose(), x = 'mw', y = ['red', 'yellow'])\n",
    "# plt.show()\n",
    "plt.rcParams[\"figure.figsize\"] = (100,50)\n",
    "Mean_RG_mw.plot()\n",
    "plt.show()"
   ]
  },
  {
   "cell_type": "raw",
   "metadata": {},
   "source": [
    "Mean_Ym = df(Mean_RY['yellow']).transpose()\n",
    "Mean_Ym = Mean_Ym.append(iPRG_MW.transpose()).dropna(axis = 1).transpose().set_index('mw').transpose()\n",
    "Mean_Bm = -blue_est.transpose().append(iPRG_MW.transpose()).dropna(axis = 1).transpose().set_index('mw').transpose()\n",
    "\n",
    "Mean_YB_mw = Mean_Bm.append(Mean_Ym).transpose()\n",
    "Mean_YB_mw = Mean_YB_mw.fillna(0)\n",
    "\n",
    "Mean_YB_mw.plot()\n",
    "plt.rcParams[\"figure.figsize\"] = (100,50)\n",
    "plt.show()"
   ]
  },
  {
   "cell_type": "raw",
   "metadata": {},
   "source": [
    "Mean_RY_mw = Mean_Rm.append(-Mean_Ym).transpose()\n",
    "Mean_RY_mw = Mean_RY_mw.fillna(0)\n",
    "Mean_RY_mw.sort_index(inplace = True)\n",
    "\n",
    "Mean_RY_mw.plot()\n",
    "plt.rcParams[\"figure.figsize\"] = (100,50)\n",
    "plt.show()"
   ]
  },
  {
   "cell_type": "raw",
   "metadata": {},
   "source": [
    "red_yel_Diffm_unmod = red_yel_Diff_copy.transpose().append(iPRG_MW.transpose()).dropna(axis = 1).transpose().set_index('mw')\n",
    "red_yel_Diffm_unmod.sort_index(inplace = True)\n",
    "\n",
    "red_yel_Diffm_unmod.plot()\n",
    "plt.rcParams[\"figure.figsize\"] = (100,50)\n",
    "plt.show()"
   ]
  },
  {
   "cell_type": "raw",
   "metadata": {},
   "source": [
    "red_yel_Diffm = red_yel_Diff.transpose().append(iPRG_MW.transpose()).dropna(axis = 1).transpose().set_index('mw')\n",
    "red_yel_Diffm.sort_index(inplace = True)\n",
    "\n",
    "red_yel_Diffm.plot()\n",
    "plt.rcParams[\"figure.figsize\"] = (100,50)\n",
    "plt.show()"
   ]
  },
  {
   "cell_type": "raw",
   "metadata": {},
   "source": [
    "Mean_Gm_exp = Mean_G.transpose().append(iPRG_MW.transpose()).dropna(axis = 1).transpose().set_index('mw').transpose()\n",
    "\n",
    "gg_diff_m = Mean_Gm.append(Mean_Gm_exp).transpose()\n",
    "gg_diff_m.sort_index(inplace = True)\n",
    "gg_diff_m = gg_diff_m.fillna(0)\n",
    "\n",
    "gg_diff_m.plot()\n",
    "plt.rcParams[\"figure.figsize\"] = (100,50)\n",
    "plt.show()"
   ]
  },
  {
   "cell_type": "raw",
   "metadata": {},
   "source": [
    "Mean_Bm_exp = Mean_B.transpose().append(iPRG_MW.transpose()).dropna(axis = 1).transpose().set_index('mw').transpose()\n",
    "\n",
    "bb_diff_m = Mean_Bm.append(Mean_Bm_exp).transpose()\n",
    "bb_diff_m.sort_index(inplace = True)\n",
    "bb_diff_m = bb_diff_m.fillna(0)\n",
    "\n",
    "bb_diff_m.plot()\n",
    "plt.rcParams[\"figure.figsize\"] = (100,50)\n",
    "plt.show()"
   ]
  },
  {
   "cell_type": "raw",
   "metadata": {},
   "source": [
    "Mean_GB_mw = -Mean_Bm.append(-Mean_Gm).transpose()\n",
    "Mean_GB_mw = Mean_GB_mw.fillna(0)\n",
    "\n",
    "Mean_GB_mw.plot()\n",
    "plt.rcParams[\"figure.figsize\"] = (100,50)\n",
    "plt.show()"
   ]
  },
  {
   "cell_type": "raw",
   "metadata": {},
   "source": [
    "bg_diff_m = Mean_Bm_exp.append(-Mean_Gm_exp).transpose()\n",
    "bg_diff_m = bg_diff_m.fillna(0)\n",
    "bg_diff_m.sort_index(inplace = True)\n",
    "\n",
    "bg_diff_m.plot()\n",
    "plt.rcParams[\"figure.figsize\"] = (100,50)\n",
    "plt.show()"
   ]
  }
 ],
 "metadata": {
  "kernelspec": {
   "display_name": "Python 3",
   "language": "python",
   "name": "python3"
  },
  "language_info": {
   "name": ""
  }
 },
 "nbformat": 4,
 "nbformat_minor": 4
}
